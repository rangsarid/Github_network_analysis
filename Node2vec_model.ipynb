{
 "cells": [
  {
   "cell_type": "code",
   "execution_count": null,
   "metadata": {},
   "outputs": [],
   "source": [
    "from node2vec import Node2Vec\n",
    "\n",
    "def node2vec(G):\n",
    "    # Generate walks\n",
    "    node2vec = Node2Vec(G, dimensions=30, walk_length=30, num_walks=50,workers=4)\n",
    "\n",
    "    # Learn embeddings\n",
    "    model = node2vec.fit(window=10, min_count=3)\n",
    "    return model\n",
    "\n",
    "def similar_nodes(node_name,model):\n",
    "    similar_list = model.similar_by_vector(node_name)\n",
    "    return similar_list\n",
    "\n",
    "git3 = pd.read_csv('all_follower_rev5.csv',index_col=[0])\n",
    "df_git = pd.read_csv('all_main_rev4.csv')\n",
    "\n",
    "git_all = git4.merge(git3[['Contributor','Follower']],how='left',left_on='contributor',right_on='Contributor')\n",
    "git_all = git_all[~git_all.Follower.isnull()]\n",
    "git_all = git_all[~git_all.contributor.isnull()]\n",
    "git_all = git_all[~git_all.repos.isnull()]\n",
    "\n",
    "repos = git_all.repos.to_list()\n",
    "user = git_all.contributor.to_list()\n",
    "follower = git_all.Follower.to_list()\n",
    "\n",
    "urepos = set(repos)\n",
    "uuser = set(user)\n",
    "ufollower = set(follower)\n",
    "\n",
    "edge_cont = set(list(zip(git_all.repos,git_all.contributor)))\n",
    "edge_follow = set(list(zip(git_all.repos,git_all.Follower)))\n",
    "\n",
    "G_repo_bi = nx.Graph()\n",
    "G_repo_bi.add_nodes_from(urepos,bipartite='repos')\n",
    "G_repo_bi.add_nodes_from(uuser,bipartite='contributor')\n",
    "G_repo_bi.add_edges_from(edge_cont)\n",
    "\n",
    "G_follow_bi = nx.Graph()\n",
    "G_follow_bi.add_nodes_from(urepos,bipartite='repos')\n",
    "G_follow_bi.add_nodes_from(ufollower,bipartite='follower')\n",
    "G_follow_bi.add_edges_from(edge_follow)\n",
    "\n",
    "repo_model = node2vec(G_repo_bi)\n",
    "similar_cont = similar_nodes(node_name='airflow',model=repo_model)\n",
    "\n",
    "follow_model = node2vec(G_follow_bi)\n",
    "similar_follow = similar_nodes(node_name='airflow',model=follow_model)"
   ]
  }
 ],
 "metadata": {
  "kernelspec": {
   "display_name": "Python 3",
   "language": "python",
   "name": "python3"
  },
  "language_info": {
   "codemirror_mode": {
    "name": "ipython",
    "version": 3
   },
   "file_extension": ".py",
   "mimetype": "text/x-python",
   "name": "python",
   "nbconvert_exporter": "python",
   "pygments_lexer": "ipython3",
   "version": "3.7.7"
  }
 },
 "nbformat": 4,
 "nbformat_minor": 4
}
